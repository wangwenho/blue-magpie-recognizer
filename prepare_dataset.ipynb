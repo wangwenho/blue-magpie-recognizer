{
 "cells": [
  {
   "cell_type": "code",
   "execution_count": 1,
   "metadata": {},
   "outputs": [],
   "source": [
    "from custom_dataset import EbirdCrawler, ImageSampler"
   ]
  },
  {
   "cell_type": "markdown",
   "metadata": {},
   "source": [
    "## Download Raw Images"
   ]
  },
  {
   "cell_type": "code",
   "execution_count": null,
   "metadata": {},
   "outputs": [],
   "source": [
    "url = \"https://media.ebird.org/catalog?taxonCode=formag1&mediaType=photo&sort=rating_rank_desc\"\n",
    "class_name = \"taiwan-blue-magpie\"\n",
    "\n",
    "ebird_crawler = EbirdCrawler(url, class_name, max_image_num=1500)\n",
    "ebird_crawler.scrape_images()"
   ]
  },
  {
   "cell_type": "code",
   "execution_count": null,
   "metadata": {},
   "outputs": [],
   "source": [
    "url = \"https://media.ebird.org/catalog?taxonCode=rbbmag&mediaType=photo&sort=rating_rank_desc\"\n",
    "class_name = \"red-billed-blue-magpie\"\n",
    "\n",
    "ebird_crawler = EbirdCrawler(url, class_name, max_image_num=1500)\n",
    "ebird_crawler.scrape_images()"
   ]
  },
  {
   "cell_type": "code",
   "execution_count": null,
   "metadata": {},
   "outputs": [],
   "source": [
    "url = \"https://media.ebird.org/catalog?taxonCode=gobmag1&mediaType=photo&sort=rating_rank_desc\"\n",
    "class_name = \"yellow-billed-blue-magpie\"\n",
    "\n",
    "ebird_crawler = EbirdCrawler(url, class_name, max_image_num=1500)\n",
    "ebird_crawler.scrape_images()"
   ]
  },
  {
   "cell_type": "markdown",
   "metadata": {},
   "source": [
    "## Sample Images"
   ]
  },
  {
   "cell_type": "code",
   "execution_count": null,
   "metadata": {},
   "outputs": [],
   "source": [
    "dir = 'raw_images'\n",
    "num_samples = 1500\n",
    "image_sampler = ImageSampler(dir, num_samples)\n",
    "image_sampler.sample_images()"
   ]
  }
 ],
 "metadata": {
  "kernelspec": {
   "display_name": "bmr2",
   "language": "python",
   "name": "python3"
  },
  "language_info": {
   "codemirror_mode": {
    "name": "ipython",
    "version": 3
   },
   "file_extension": ".py",
   "mimetype": "text/x-python",
   "name": "python",
   "nbconvert_exporter": "python",
   "pygments_lexer": "ipython3",
   "version": "3.9.20"
  }
 },
 "nbformat": 4,
 "nbformat_minor": 2
}
